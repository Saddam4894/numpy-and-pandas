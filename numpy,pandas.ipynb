{
 "cells": [
  {
   "cell_type": "code",
   "execution_count": 1,
   "id": "44418e07-99b1-4ae0-8381-0ed1004d6ae9",
   "metadata": {},
   "outputs": [
    {
     "name": "stdout",
     "output_type": "stream",
     "text": [
      "[0 1 2 3 4]\n",
      "[2 3 4 5 6]\n"
     ]
    },
    {
     "ename": "TypeError",
     "evalue": "can only concatenate list (not \"int\") to list",
     "output_type": "error",
     "traceback": [
      "\u001b[1;31m---------------------------------------------------------------------------\u001b[0m",
      "\u001b[1;31mTypeError\u001b[0m                                 Traceback (most recent call last)",
      "Cell \u001b[1;32mIn[1], line 7\u001b[0m\n\u001b[0;32m      5\u001b[0m arr\u001b[38;5;241m=\u001b[39marr\u001b[38;5;241m+\u001b[39m\u001b[38;5;241m2\u001b[39m\n\u001b[0;32m      6\u001b[0m \u001b[38;5;28mprint\u001b[39m(arr)\n\u001b[1;32m----> 7\u001b[0m list1\u001b[38;5;241m=\u001b[39mlist1\u001b[38;5;241m+\u001b[39m\u001b[38;5;241m2\u001b[39m\n",
      "\u001b[1;31mTypeError\u001b[0m: can only concatenate list (not \"int\") to list"
     ]
    }
   ],
   "source": [
    "import numpy as np\n",
    "list1=[0,1,2,3,4] #this is a list\n",
    "arr=np.array(list1) #convert list into array\n",
    "print(arr)\n",
    "arr=arr+2 # we can add number 2 but this number add to each number of array without changing its size \n",
    "print(arr)\n",
    "list1=list1+2 # but we cannot add any number in list"
   ]
  },
  {
   "cell_type": "code",
   "execution_count": null,
   "id": "f2636845-4db9-49e5-a759-54c6929dbec3",
   "metadata": {},
   "outputs": [],
   "source": [
    "# array is same like as list. we can change the size of list by adding another list  but we can't change the size of list.\n",
    "#array can be used by importing numpy & list is built in python\n",
    "#assertion & deletion in list easier but array assertion & deletion in array complex\n",
    "#array is fix in size but list is dynamic\n",
    "#array store homogenous(same kind) data & list store hetrogenous(different kind) data"
   ]
  },
  {
   "cell_type": "code",
   "execution_count": 3,
   "id": "e5a0675e-9b72-48a0-98f2-40ebaa856413",
   "metadata": {},
   "outputs": [
    {
     "name": "stdout",
     "output_type": "stream",
     "text": [
      "[[0 1 4]\n",
      " [4 5 6]\n",
      " [9 9 0]]\n"
     ]
    }
   ],
   "source": [
    "list2=[[0,1,4],[4,5,6],[9,9,0]]\n",
    "arr1=np.array(list2) # convert list into arry using numpy here we convert list of lists into 2d_array(row&columns)\n",
    "print(arr1)"
   ]
  },
  {
   "cell_type": "code",
   "execution_count": 5,
   "id": "bc0c8f19-2ec2-4d57-a845-bc089cbe3b41",
   "metadata": {},
   "outputs": [
    {
     "name": "stdout",
     "output_type": "stream",
     "text": [
      "[[0. 1. 4.]\n",
      " [4. 5. 6.]\n",
      " [9. 9. 0.]]\n"
     ]
    }
   ],
   "source": [
    "arr2=np.array(list2,dtype='float') # we we can specify data type by using the dtype() argument\n",
    "print(arr2)"
   ]
  },
  {
   "cell_type": "code",
   "execution_count": 7,
   "id": "db44a27f-6e7a-42c2-98d0-043a3a864dc0",
   "metadata": {},
   "outputs": [
    {
     "name": "stdout",
     "output_type": "stream",
     "text": [
      "[['0' '1' '4']\n",
      " ['4' '5' '6']\n",
      " ['9' '9' '0']]\n"
     ]
    }
   ],
   "source": [
    "arr2=np.array(list2,dtype='str') # we we can specify data type by using the dtype() _1.(argument for one data type)\n",
    "print(arr2)"
   ]
  },
  {
   "cell_type": "code",
   "execution_count": 15,
   "id": "c933583d-6d7c-403a-88db-61a07a58a8ef",
   "metadata": {},
   "outputs": [
    {
     "name": "stdout",
     "output_type": "stream",
     "text": [
      "[['0' '1' '4']\n",
      " ['4' '5' '6']\n",
      " ['9' '9' '0']]\n"
     ]
    }
   ],
   "source": [
    "arr3=arr2.astype('int').astype('str') # astype() argument is used to combine two data types \n",
    "print(arr3)"
   ]
  },
  {
   "cell_type": "code",
   "execution_count": 17,
   "id": "994b5afb-a93c-482b-b890-82858bd26010",
   "metadata": {},
   "outputs": [
    {
     "name": "stdout",
     "output_type": "stream",
     "text": [
      "[[0. 1. 4.]\n",
      " [4. 5. 6.]\n",
      " [9. 9. 0.]]\n"
     ]
    }
   ],
   "source": [
    "arr3=arr2.astype('int').astype('float')\n",
    "print(arr3)"
   ]
  },
  {
   "cell_type": "code",
   "execution_count": 19,
   "id": "fb829881-856f-4dac-a4d1-a8cf3c907bd1",
   "metadata": {},
   "outputs": [
    {
     "name": "stdout",
     "output_type": "stream",
     "text": [
      "[[0. 1. 4.]\n",
      " [4. 5. 6.]\n",
      " [9. 9. 0.]]\n"
     ]
    }
   ],
   "source": [
    "arr3=arr1.astype('int').astype('float')\n",
    "print(arr3)"
   ]
  },
  {
   "cell_type": "code",
   "execution_count": 21,
   "id": "0721524a-44ca-4b20-9fab-afdc8a03a072",
   "metadata": {},
   "outputs": [
    {
     "name": "stdout",
     "output_type": "stream",
     "text": [
      "[[0 1 4]\n",
      " [4 5 6]\n",
      " [9 9 0]]\n"
     ]
    }
   ],
   "source": [
    "arr2=np.array(list2,dtype='object') # we we can specify data type by using the dtype() argument\n",
    "print(arr2)"
   ]
  },
  {
   "cell_type": "code",
   "execution_count": 25,
   "id": "de806a6f-01e9-4680-97e8-530953c10753",
   "metadata": {},
   "outputs": [
    {
     "name": "stdout",
     "output_type": "stream",
     "text": [
      "[1 'b']\n"
     ]
    }
   ],
   "source": [
    "arr4=np.array([1,'b'],dtype='object') # we can add object type data( characters and numbers) in array\n",
    "print(arr4)"
   ]
  },
  {
   "cell_type": "code",
   "execution_count": 27,
   "id": "4e968bca-882b-4be5-adf2-a7143a115fd1",
   "metadata": {},
   "outputs": [
    {
     "name": "stdout",
     "output_type": "stream",
     "text": [
      "[1, 'b']\n"
     ]
    }
   ],
   "source": [
    "arr5=arr4.tolist() #we convert array into list by using tolist() command.\n",
    "print(arr5)"
   ]
  },
  {
   "cell_type": "code",
   "execution_count": 29,
   "id": "b53eb7d1-0927-41fd-8db2-2d0d9bb2c647",
   "metadata": {},
   "outputs": [
    {
     "name": "stdout",
     "output_type": "stream",
     "text": [
      "shape: (3, 3)\n",
      "Data type: float64\n",
      "size: 9\n",
      "num dimension: 2\n"
     ]
    }
   ],
   "source": [
    "list5=[[0,7,8],[5,6,7],[1,2,3]]\n",
    "arr6=np.array(list5,dtype='float') #convert to suggested dara type\n",
    "print('shape:',arr6.shape) # tell the the no.s of how many rows and columns\n",
    "print('Data type:',arr6.dtype) # tell the data type\n",
    "print('size:',arr6.size) # tell the  size that how many totals entries in a array\n",
    "print('num dimension:',arr6.ndim) # tell the dimension of array"
   ]
  },
  {
   "cell_type": "code",
   "execution_count": 33,
   "id": "5df6baa6-fda4-482e-a054-1c11b65f076c",
   "metadata": {},
   "outputs": [
    {
     "name": "stdout",
     "output_type": "stream",
     "text": [
      "whole: [[0. 7. 8.]\n",
      " [5. 6. 7.]\n",
      " [1. 2. 3.]]\n",
      "part: [[0. 7.]\n",
      " [5. 6.]]\n"
     ]
    }
   ],
   "source": [
    "list5=[[0,7,8],[5,6,7],[1,2,3]]\n",
    "arr6=np.array(list5,dtype='float')\n",
    "print('whole:',arr6) # print whole array \n",
    "print('part:',arr6[:2,:2]) # print some part of array [no.s of list,no.s of entries in a list]"
   ]
  },
  {
   "cell_type": "code",
   "execution_count": 35,
   "id": "9ccf158a-d92d-4f90-b64c-cd54f1cec034",
   "metadata": {},
   "outputs": [
    {
     "name": "stdout",
     "output_type": "stream",
     "text": [
      "whole: [[0. 7. 8.]\n",
      " [5. 6. 7.]\n",
      " [1. 2. 3.]]\n",
      "part: [[0. 7.]]\n"
     ]
    }
   ],
   "source": [
    "list5=[[0,7,8],[5,6,7],[1,2,3]]\n",
    "arr6=np.array(list5,dtype='float')\n",
    "print('whole:',arr6)\n",
    "print('part:',arr6[:1,:2]) # print some part of array [no.s of list,no.s of entries in a list]"
   ]
  },
  {
   "cell_type": "code",
   "execution_count": 41,
   "id": "f61f1a42-8707-4947-867c-f46c145e0e20",
   "metadata": {},
   "outputs": [
    {
     "name": "stdout",
     "output_type": "stream",
     "text": [
      "[[0. 7. 8.]\n",
      " [5. 6. 7.]\n",
      " [1. 2. 3.]]\n"
     ]
    }
   ],
   "source": [
    "list5=[[0,7,8],[5,6,7],[1,2,3]]\n",
    "arr6=np.array(list5,dtype='float')\n",
    "boo=arr6\n",
    "print(boo)"
   ]
  },
  {
   "cell_type": "code",
   "execution_count": 43,
   "id": "b7bb4ef1-00bf-4227-b00e-48d2cf7ffaf7",
   "metadata": {},
   "outputs": [
    {
     "name": "stdout",
     "output_type": "stream",
     "text": [
      "[[False  True  True]\n",
      " [ True  True  True]\n",
      " [False False  True]]\n"
     ]
    }
   ],
   "source": [
    "list5=[[0,7,8],[5,6,7],[1,2,3]]\n",
    "arr6=np.array(list5,dtype='float')\n",
    "boo=arr6>2 # remember\n",
    "print(boo) # convert into boolean(False&True)"
   ]
  },
  {
   "cell_type": "code",
   "execution_count": null,
   "id": "bc336f27-70b1-4101-a516-97832d29f0ff",
   "metadata": {},
   "outputs": [],
   "source": [
    "#pandas store the data in tabular(table) form like data_Frame.\n",
    "#pandas used two data structures(1.Series & 2.Data Frames)\n",
    "#series is same as list but but series associates a lebel with each element.This makes it look like a dictionary.\n",
    "#series extract all values in the series ,as well as indiviual elements by index.\n",
    "# Data frame is a table with rows and columns.\n",
    "#each column in a data is series.\n",
    "#series is used to combine a data frame.\n",
    "#rows consist of elements inside series.\n",
    "#pandas data frames can be constructed using python dictionary."
   ]
  },
  {
   "cell_type": "code",
   "execution_count": 47,
   "id": "ce3af251-0037-4c5c-a2d7-d6d0417c60f0",
   "metadata": {},
   "outputs": [
    {
     "name": "stdout",
     "output_type": "stream",
     "text": [
      "0    1\n",
      "1    2\n",
      "2    3\n",
      "3    4\n",
      "4    5\n",
      "dtype: int64\n"
     ]
    }
   ],
   "source": [
    "import pandas as pd\n",
    "series1=pd.Series([1,2,3,4,5])  # 's' must be capital in Series\n",
    "print(series1)"
   ]
  },
  {
   "cell_type": "code",
   "execution_count": 49,
   "id": "d3ee3a33-5fce-4150-8764-d6b12a283b8c",
   "metadata": {},
   "outputs": [
    {
     "name": "stdout",
     "output_type": "stream",
     "text": [
      "[1 2 3 4 5]\n",
      "____________\n",
      "4\n",
      "5\n"
     ]
    }
   ],
   "source": [
    "series1=pd.Series([1,2,3,4,5])\n",
    "print(series1.values)\n",
    "print('____________')\n",
    "print(series1[3])\n",
    "print(series1[4])"
   ]
  },
  {
   "cell_type": "code",
   "execution_count": 55,
   "id": "378c20f0-d880-4b7b-b51f-e61c55b76607",
   "metadata": {},
   "outputs": [
    {
     "name": "stdout",
     "output_type": "stream",
     "text": [
      "[1 2 3 4 5]\n",
      "____________\n",
      "4\n",
      "5\n"
     ]
    }
   ],
   "source": [
    "series1=pd.Series([1,2,3,4,5],index=['a','b','c','g','t']) # we can also provide an index manually by characters.\n",
    "print(series1.values)\n",
    "print('____________')\n",
    "print(series1['g']) # same sample with courts use must remember\n",
    "print(series1['t'])"
   ]
  },
  {
   "cell_type": "code",
   "execution_count": 59,
   "id": "b1094926-501c-4cf3-9fa4-54a78da233ee",
   "metadata": {},
   "outputs": [
    {
     "name": "stdout",
     "output_type": "stream",
     "text": [
      "[1 2 3 4 5]\n",
      "a    1\n",
      "b    2\n",
      "c    3\n",
      "g    4\n",
      "t    5\n",
      "dtype: int64\n",
      "____________\n",
      "a    0\n",
      "b    2\n",
      "c    0\n",
      "g    0\n",
      "t    5\n",
      "dtype: int64\n"
     ]
    }
   ],
   "source": [
    "series1=pd.Series([1,2,3,4,5],index=['a','b','c','g','t']) # we can also provide an index manually by characters.\n",
    "print(series1.values)\n",
    "print(series1)\n",
    "print('____________')\n",
    "series1[['a','c','g']]=0 #we retrieve several elements of a series by their indices or make group assignment\n",
    "print(series1)"
   ]
  },
  {
   "cell_type": "code",
   "execution_count": 61,
   "id": "62be5f31-87f3-4b22-bad9-a9e3e8d0b4ca",
   "metadata": {},
   "outputs": [
    {
     "name": "stdout",
     "output_type": "stream",
     "text": [
      "   countary  population    disease\n",
      "0    Russia       12.90       aids\n",
      "1  Pakistan      143.00  paralysis\n",
      "2     India      300.98   hepatite\n",
      "3   ukraine       78.45    migrane\n"
     ]
    }
   ],
   "source": [
    "df=pd.DataFrame({\n",
    "    'countary':['Russia','Pakistan','India','ukraine'],\n",
    "    'population':[12.9,143,300.98,78.45],\n",
    "    'disease':['aids','paralysis','hepatite','migrane']}) # data frame by using dictionary\n",
    "print(df)"
   ]
  },
  {
   "cell_type": "code",
   "execution_count": 69,
   "id": "700a4e3b-3282-4efb-bab9-f8295d5cc2d9",
   "metadata": {},
   "outputs": [
    {
     "name": "stdout",
     "output_type": "stream",
     "text": [
      "   0  1  2\n",
      "0  0  1  4\n",
      "1  4  5  6\n",
      "2  9  9  0\n",
      "   A1  A2  A3\n",
      "0   0   1   4\n",
      "1   4   5   6\n",
      "2   9   9   0\n"
     ]
    }
   ],
   "source": [
    "list2=[[0,1,4],[4,5,6],[9,9,0]]\n",
    "df1=pd.DataFrame(list2) # if we don't give columns name then pandas automatically developed named of columns in numeric form(0,1,3...)\n",
    "print(df1)\n",
    "df1.columns=['A1','A2','A3'] # we can give the names to columns    \n",
    "print(df1)\n"
   ]
  },
  {
   "cell_type": "code",
   "execution_count": 71,
   "id": "3297fe09-beb6-4aee-82fd-b7da4abc9860",
   "metadata": {},
   "outputs": [
    {
     "name": "stdout",
     "output_type": "stream",
     "text": [
      "   0  1  2\n",
      "0  0  1  4\n",
      "1  4  5  6\n",
      "2  9  9  0\n",
      "____________\n",
      "   A1  A2  A3\n",
      "0   0   1   4\n",
      "1   4   5   6\n",
      "2   9   9   0\n"
     ]
    }
   ],
   "source": [
    "list2=[[0,1,4],[4,5,6],[9,9,0]]\n",
    "df1=pd.DataFrame(list2) # if we don't give columns& roms name then pandas automatically developed named of columns&rows in numeric form(0,1,3...) from 0 to N-1\n",
    "print(df1)\n",
    "print('____________')\n",
    "df1.columns=['A1','A2','A3'] # we can give the names to columns \n",
    "print(df1)\n"
   ]
  },
  {
   "cell_type": "code",
   "execution_count": 89,
   "id": "baa48c02-d158-4633-b594-4d5e8793c890",
   "metadata": {},
   "outputs": [
    {
     "name": "stdout",
     "output_type": "stream",
     "text": [
      "<class 'pandas.core.series.Series'>\n",
      "Index(['countary', 'population', 'disease'], dtype='object')\n",
      "_______\n",
      "RangeIndex(start=0, stop=4, step=1)\n"
     ]
    }
   ],
   "source": [
    "df=pd.DataFrame({\n",
    "    'countary':['Russia','Pakistan','India','ukraine'],\n",
    "    'population':[12.9,143,300.98,78.45],\n",
    "    'disease':['aids','paralysis','hepatite','migrane']}) # data frame by using dictionary\n",
    "print(type(df['countary'])) # each column in a data frame is series.\n",
    "print(df.columns)# gives columns names\n",
    "print(\"_______\")\n",
    "print(df.index)# (give column and row index starting from 0, to stop at N-1 ,increase adding one element in next to next)"
   ]
  },
  {
   "cell_type": "code",
   "execution_count": 91,
   "id": "f060bc78-a503-4a54-847f-acc141f59a7a",
   "metadata": {},
   "outputs": [
    {
     "name": "stdout",
     "output_type": "stream",
     "text": [
      "     countary  population    disease\n",
      "RAS    Russia       12.90       aids\n",
      "PAK  Pakistan      143.00  paralysis\n",
      "IND     India      300.98   hepatite\n",
      "UK    ukraine       78.45    migrane\n"
     ]
    }
   ],
   "source": [
    "# another way to provide row indices explicitly.\n",
    "df=pd.DataFrame({\n",
    "    'countary':['Russia','Pakistan','India','ukraine'],\n",
    "    'population':[12.9,143,300.98,78.45],\n",
    "    'disease':['aids','paralysis','hepatite','migrane']},index=['RAS','PAK','IND','UK']) # data frame by using dictionary\n",
    "print(df)\n"
   ]
  },
  {
   "cell_type": "code",
   "execution_count": 93,
   "id": "74a764e0-bb62-4127-9916-b7325f645887",
   "metadata": {},
   "outputs": [
    {
     "name": "stdout",
     "output_type": "stream",
     "text": [
      "   countary  population    disease\n",
      "0    Russia       12.90       aids\n",
      "1  Pakistan      143.00  paralysis\n",
      "2     India      300.98   hepatite\n",
      "3   ukraine       78.45    migrane\n",
      "___________\n",
      "              countary  population    disease\n",
      "countary obv                                 \n",
      "RAS             Russia       12.90       aids\n",
      "PAK           Pakistan      143.00  paralysis\n",
      "IND              India      300.98   hepatite\n",
      "UK             ukraine       78.45    migrane\n"
     ]
    }
   ],
   "source": [
    "# how do it during runtime\n",
    "df=pd.DataFrame({\n",
    "    'countary':['Russia','Pakistan','India','ukraine'],\n",
    "    'population':[12.9,143,300.98,78.45],\n",
    "    'disease':['aids','paralysis','hepatite','migrane']}) # data frame by using dictionary\n",
    "print(df)\n",
    "print('___________')\n",
    "df.index=['RAS','PAK','IND','UK'] # index for rows\n",
    "df.index.name='countary obv'# column name for rows element\n",
    "print(df)"
   ]
  },
  {
   "cell_type": "code",
   "execution_count": 99,
   "id": "a97e78e6-ec80-49ed-b6d7-15a0d6f65eaa",
   "metadata": {},
   "outputs": [
    {
     "name": "stdout",
     "output_type": "stream",
     "text": [
      "countary       Pakistan\n",
      "population        143.0\n",
      "disease       paralysis\n",
      "Name: PAK, dtype: object\n",
      "_________\n",
      "countary      Russia\n",
      "population      12.9\n",
      "disease         aids\n",
      "Name: RAS, dtype: object\n"
     ]
    }
   ],
   "source": [
    "#we can access on whole row . we can use .loc() and provide an index label.\n",
    "print(df.loc['PAK'])\n",
    "print('_________')\n",
    "#Second,we can access on whole row . we can use .iloc() and provide an index number.\n",
    "print(df.iloc[0])\n"
   ]
  },
  {
   "cell_type": "code",
   "execution_count": 103,
   "id": "bbb9495d-12e7-46fb-a295-ac11a3fbfb95",
   "metadata": {},
   "outputs": [
    {
     "name": "stdout",
     "output_type": "stream",
     "text": [
      "countary obv\n",
      "PAK    143.00\n",
      "IND    300.98\n",
      "Name: population, dtype: float64\n"
     ]
    }
   ],
   "source": [
    "#a selection of perticular rows columns can be selected this way \n",
    "print(df.loc[['PAK','IND'],'population'])"
   ]
  },
  {
   "cell_type": "code",
   "execution_count": 107,
   "id": "b906ad75-ca1c-4468-88df-848ef06a587c",
   "metadata": {},
   "outputs": [
    {
     "name": "stdout",
     "output_type": "stream",
     "text": [
      "              countary  population    disease\n",
      "countary obv                                 \n",
      "PAK           Pakistan      143.00  paralysis\n",
      "IND              India      300.98   hepatite\n"
     ]
    }
   ],
   "source": [
    "#slicing of data frame \n",
    "print(df.loc['PAK':'IND',:])"
   ]
  },
  {
   "cell_type": "code",
   "execution_count": 117,
   "id": "9d2c05df-c083-45fa-b16c-90467e4e985e",
   "metadata": {},
   "outputs": [
    {
     "name": "stdout",
     "output_type": "stream",
     "text": [
      "   countary  population    disease\n",
      "0    Russia       12.90       aids\n",
      "1  Pakistan      143.00  paralysis\n",
      "2     India      300.98   hepatite\n",
      "3   ukraine       78.45    migrane\n",
      "____________\n",
      "   countary    disease\n",
      "0    Russia       aids\n",
      "1  Pakistan  paralysis\n",
      "2     India   hepatite\n",
      "3   ukraine    migrane\n"
     ]
    }
   ],
   "source": [
    "df=pd.DataFrame({\n",
    "    'countary':['Russia','Pakistan','India','ukraine'],\n",
    "    'population':[12.9,143,300.98,78.45],\n",
    "    'disease':['aids','paralysis','hepatite','migrane']})\n",
    "# .drop() function is use to drop any column in data frame\n",
    "print(df)\n",
    "print('____________')\n",
    "df=df.drop(['population'],axis='columns') # use to drop population column\n",
    "print(df)"
   ]
  },
  {
   "cell_type": "code",
   "execution_count": null,
   "id": "b9b0a0d7-986d-4b59-8cb2-0fe0fa8a0180",
   "metadata": {},
   "outputs": [],
   "source": []
  }
 ],
 "metadata": {
  "kernelspec": {
   "display_name": "Python 3 (ipykernel)",
   "language": "python",
   "name": "python3"
  },
  "language_info": {
   "codemirror_mode": {
    "name": "ipython",
    "version": 3
   },
   "file_extension": ".py",
   "mimetype": "text/x-python",
   "name": "python",
   "nbconvert_exporter": "python",
   "pygments_lexer": "ipython3",
   "version": "3.12.7"
  }
 },
 "nbformat": 4,
 "nbformat_minor": 5
}
